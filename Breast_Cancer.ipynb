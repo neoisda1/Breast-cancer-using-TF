{
  "nbformat": 4,
  "nbformat_minor": 0,
  "metadata": {
    "colab": {
      "name": "Breast Cancer.ipynb",
      "provenance": [],
      "authorship_tag": "ABX9TyMZ7HuLJ7n4IR5aQrbkTTSl",
      "include_colab_link": true
    },
    "kernelspec": {
      "name": "python3",
      "display_name": "Python 3"
    },
    "accelerator": "TPU"
  },
  "cells": [
    {
      "cell_type": "markdown",
      "metadata": {
        "id": "view-in-github",
        "colab_type": "text"
      },
      "source": [
        "<a href=\"https://colab.research.google.com/github/neoisda1/Breast-cancer-using-TF/blob/master/Breast_Cancer.ipynb\" target=\"_parent\"><img src=\"https://colab.research.google.com/assets/colab-badge.svg\" alt=\"Open In Colab\"/></a>"
      ]
    },
    {
      "cell_type": "code",
      "metadata": {
        "id": "hnYCFs5-3Tfg",
        "colab_type": "code",
        "colab": {
          "base_uri": "https://localhost:8080/",
          "height": 653
        },
        "outputId": "ada6a567-2012-4781-f74c-2a698f4aeb02"
      },
      "source": [
        "!pip install -q kaggle\n",
        "!pip install tensorflow-gpu==2.0.0-rc0"
      ],
      "execution_count": 14,
      "outputs": [
        {
          "output_type": "stream",
          "text": [
            "Collecting tensorflow-gpu==2.0.0-rc0\n",
            "\u001b[?25l  Downloading https://files.pythonhosted.org/packages/6a/12/8c64cc62149cc21c70c55018502831bbf4d42bd62bed196df7de6830d21b/tensorflow_gpu-2.0.0rc0-cp36-cp36m-manylinux2010_x86_64.whl (380.5MB)\n",
            "\u001b[K     |████████████████████████████████| 380.5MB 42kB/s \n",
            "\u001b[?25hCollecting tb-nightly<1.15.0a20190807,>=1.15.0a20190806\n",
            "\u001b[?25l  Downloading https://files.pythonhosted.org/packages/bc/88/24b5fb7280e74c7cf65bde47c171547fd02afb3840cff41bcbe9270650f5/tb_nightly-1.15.0a20190806-py3-none-any.whl (4.3MB)\n",
            "\u001b[K     |████████████████████████████████| 4.3MB 40.8MB/s \n",
            "\u001b[?25hRequirement already satisfied: numpy<2.0,>=1.16.0 in /usr/local/lib/python3.6/dist-packages (from tensorflow-gpu==2.0.0-rc0) (1.17.5)\n",
            "Requirement already satisfied: keras-preprocessing>=1.0.5 in /usr/local/lib/python3.6/dist-packages (from tensorflow-gpu==2.0.0-rc0) (1.1.0)\n",
            "Requirement already satisfied: grpcio>=1.8.6 in /usr/local/lib/python3.6/dist-packages (from tensorflow-gpu==2.0.0-rc0) (1.15.0)\n",
            "Requirement already satisfied: astor>=0.6.0 in /usr/local/lib/python3.6/dist-packages (from tensorflow-gpu==2.0.0-rc0) (0.8.1)\n",
            "Requirement already satisfied: six>=1.10.0 in /usr/local/lib/python3.6/dist-packages (from tensorflow-gpu==2.0.0-rc0) (1.12.0)\n",
            "Requirement already satisfied: opt-einsum>=2.3.2 in /usr/local/lib/python3.6/dist-packages (from tensorflow-gpu==2.0.0-rc0) (3.1.0)\n",
            "Requirement already satisfied: protobuf>=3.6.1 in /usr/local/lib/python3.6/dist-packages (from tensorflow-gpu==2.0.0-rc0) (3.10.0)\n",
            "Requirement already satisfied: wheel>=0.26 in /usr/local/lib/python3.6/dist-packages (from tensorflow-gpu==2.0.0-rc0) (0.33.6)\n",
            "Requirement already satisfied: google-pasta>=0.1.6 in /usr/local/lib/python3.6/dist-packages (from tensorflow-gpu==2.0.0-rc0) (0.1.8)\n",
            "Requirement already satisfied: keras-applications>=1.0.8 in /usr/local/lib/python3.6/dist-packages (from tensorflow-gpu==2.0.0-rc0) (1.0.8)\n",
            "Requirement already satisfied: termcolor>=1.1.0 in /usr/local/lib/python3.6/dist-packages (from tensorflow-gpu==2.0.0-rc0) (1.1.0)\n",
            "Requirement already satisfied: wrapt>=1.11.1 in /usr/local/lib/python3.6/dist-packages (from tensorflow-gpu==2.0.0-rc0) (1.11.2)\n",
            "Requirement already satisfied: absl-py>=0.7.0 in /usr/local/lib/python3.6/dist-packages (from tensorflow-gpu==2.0.0-rc0) (0.9.0)\n",
            "Requirement already satisfied: gast>=0.2.0 in /usr/local/lib/python3.6/dist-packages (from tensorflow-gpu==2.0.0-rc0) (0.2.2)\n",
            "Collecting tf-estimator-nightly<1.14.0.dev2019080602,>=1.14.0.dev2019080601\n",
            "\u001b[?25l  Downloading https://files.pythonhosted.org/packages/21/28/f2a27a62943d5f041e4a6fd404b2d21cb7c59b2242a4e73b03d9ba166552/tf_estimator_nightly-1.14.0.dev2019080601-py2.py3-none-any.whl (501kB)\n",
            "\u001b[K     |████████████████████████████████| 501kB 46.0MB/s \n",
            "\u001b[?25hRequirement already satisfied: markdown>=2.6.8 in /usr/local/lib/python3.6/dist-packages (from tb-nightly<1.15.0a20190807,>=1.15.0a20190806->tensorflow-gpu==2.0.0-rc0) (3.1.1)\n",
            "Requirement already satisfied: werkzeug>=0.11.15 in /usr/local/lib/python3.6/dist-packages (from tb-nightly<1.15.0a20190807,>=1.15.0a20190806->tensorflow-gpu==2.0.0-rc0) (0.16.0)\n",
            "Requirement already satisfied: setuptools>=41.0.0 in /usr/local/lib/python3.6/dist-packages (from tb-nightly<1.15.0a20190807,>=1.15.0a20190806->tensorflow-gpu==2.0.0-rc0) (42.0.2)\n",
            "Requirement already satisfied: h5py in /usr/local/lib/python3.6/dist-packages (from keras-applications>=1.0.8->tensorflow-gpu==2.0.0-rc0) (2.8.0)\n",
            "Installing collected packages: tb-nightly, tf-estimator-nightly, tensorflow-gpu\n",
            "Successfully installed tb-nightly-1.15.0a20190806 tensorflow-gpu-2.0.0rc0 tf-estimator-nightly-1.14.0.dev2019080601\n"
          ],
          "name": "stdout"
        },
        {
          "output_type": "display_data",
          "data": {
            "application/vnd.colab-display-data+json": {
              "pip_warning": {
                "packages": [
                  "tensorboard",
                  "tensorflow",
                  "tensorflow_core",
                  "tensorflow_estimator"
                ]
              }
            }
          },
          "metadata": {
            "tags": []
          }
        }
      ]
    },
    {
      "cell_type": "code",
      "metadata": {
        "id": "E1hffwA83Ypf",
        "colab_type": "code",
        "colab": {}
      },
      "source": [
        "import tensorflow as tf\n",
        "from tensorflow import keras\n",
        "from tensorflow.keras import Sequential\n",
        "from tensorflow.keras.layers import Flatten, Dense, Dropout, BatchNormalization\n",
        "from tensorflow.keras.layers import Conv1D, MaxPool1D\n"
      ],
      "execution_count": 0,
      "outputs": []
    },
    {
      "cell_type": "code",
      "metadata": {
        "id": "27OTGi3s34xb",
        "colab_type": "code",
        "colab": {}
      },
      "source": [
        "from tensorflow.keras.optimizers import Adam"
      ],
      "execution_count": 0,
      "outputs": []
    },
    {
      "cell_type": "code",
      "metadata": {
        "id": "jtvuUawW4BM_",
        "colab_type": "code",
        "colab": {
          "base_uri": "https://localhost:8080/",
          "height": 35
        },
        "outputId": "190fb0dd-a825-4359-e222-9bcb7d8e93c8"
      },
      "source": [
        "print(tf.__version__)"
      ],
      "execution_count": 4,
      "outputs": [
        {
          "output_type": "stream",
          "text": [
            "2.0.0-rc0\n"
          ],
          "name": "stdout"
        }
      ]
    },
    {
      "cell_type": "code",
      "metadata": {
        "id": "0bW4S4hP4FxT",
        "colab_type": "code",
        "colab": {}
      },
      "source": [
        "import pandas as pd\n",
        "import numpy as np\n",
        "import seaborn as sns\n",
        "import matplotlib.pyplot as plt\n",
        "from sklearn import datasets, metrics\n",
        "from sklearn.model_selection import train_test_split\n",
        "from sklearn.preprocessing import StandardScaler\n"
      ],
      "execution_count": 0,
      "outputs": []
    },
    {
      "cell_type": "code",
      "metadata": {
        "id": "bB04Wl8Z5DMX",
        "colab_type": "code",
        "colab": {
          "base_uri": "https://localhost:8080/",
          "height": 1000
        },
        "outputId": "2354f00c-35e3-4f0d-fe94-d470ecdc31ce"
      },
      "source": [
        "cancer = datasets.load_breast_cancer()\n",
        "print(cancer.DESCR)"
      ],
      "execution_count": 6,
      "outputs": [
        {
          "output_type": "stream",
          "text": [
            ".. _breast_cancer_dataset:\n",
            "\n",
            "Breast cancer wisconsin (diagnostic) dataset\n",
            "--------------------------------------------\n",
            "\n",
            "**Data Set Characteristics:**\n",
            "\n",
            "    :Number of Instances: 569\n",
            "\n",
            "    :Number of Attributes: 30 numeric, predictive attributes and the class\n",
            "\n",
            "    :Attribute Information:\n",
            "        - radius (mean of distances from center to points on the perimeter)\n",
            "        - texture (standard deviation of gray-scale values)\n",
            "        - perimeter\n",
            "        - area\n",
            "        - smoothness (local variation in radius lengths)\n",
            "        - compactness (perimeter^2 / area - 1.0)\n",
            "        - concavity (severity of concave portions of the contour)\n",
            "        - concave points (number of concave portions of the contour)\n",
            "        - symmetry \n",
            "        - fractal dimension (\"coastline approximation\" - 1)\n",
            "\n",
            "        The mean, standard error, and \"worst\" or largest (mean of the three\n",
            "        largest values) of these features were computed for each image,\n",
            "        resulting in 30 features.  For instance, field 3 is Mean Radius, field\n",
            "        13 is Radius SE, field 23 is Worst Radius.\n",
            "\n",
            "        - class:\n",
            "                - WDBC-Malignant\n",
            "                - WDBC-Benign\n",
            "\n",
            "    :Summary Statistics:\n",
            "\n",
            "    ===================================== ====== ======\n",
            "                                           Min    Max\n",
            "    ===================================== ====== ======\n",
            "    radius (mean):                        6.981  28.11\n",
            "    texture (mean):                       9.71   39.28\n",
            "    perimeter (mean):                     43.79  188.5\n",
            "    area (mean):                          143.5  2501.0\n",
            "    smoothness (mean):                    0.053  0.163\n",
            "    compactness (mean):                   0.019  0.345\n",
            "    concavity (mean):                     0.0    0.427\n",
            "    concave points (mean):                0.0    0.201\n",
            "    symmetry (mean):                      0.106  0.304\n",
            "    fractal dimension (mean):             0.05   0.097\n",
            "    radius (standard error):              0.112  2.873\n",
            "    texture (standard error):             0.36   4.885\n",
            "    perimeter (standard error):           0.757  21.98\n",
            "    area (standard error):                6.802  542.2\n",
            "    smoothness (standard error):          0.002  0.031\n",
            "    compactness (standard error):         0.002  0.135\n",
            "    concavity (standard error):           0.0    0.396\n",
            "    concave points (standard error):      0.0    0.053\n",
            "    symmetry (standard error):            0.008  0.079\n",
            "    fractal dimension (standard error):   0.001  0.03\n",
            "    radius (worst):                       7.93   36.04\n",
            "    texture (worst):                      12.02  49.54\n",
            "    perimeter (worst):                    50.41  251.2\n",
            "    area (worst):                         185.2  4254.0\n",
            "    smoothness (worst):                   0.071  0.223\n",
            "    compactness (worst):                  0.027  1.058\n",
            "    concavity (worst):                    0.0    1.252\n",
            "    concave points (worst):               0.0    0.291\n",
            "    symmetry (worst):                     0.156  0.664\n",
            "    fractal dimension (worst):            0.055  0.208\n",
            "    ===================================== ====== ======\n",
            "\n",
            "    :Missing Attribute Values: None\n",
            "\n",
            "    :Class Distribution: 212 - Malignant, 357 - Benign\n",
            "\n",
            "    :Creator:  Dr. William H. Wolberg, W. Nick Street, Olvi L. Mangasarian\n",
            "\n",
            "    :Donor: Nick Street\n",
            "\n",
            "    :Date: November, 1995\n",
            "\n",
            "This is a copy of UCI ML Breast Cancer Wisconsin (Diagnostic) datasets.\n",
            "https://goo.gl/U2Uwz2\n",
            "\n",
            "Features are computed from a digitized image of a fine needle\n",
            "aspirate (FNA) of a breast mass.  They describe\n",
            "characteristics of the cell nuclei present in the image.\n",
            "\n",
            "Separating plane described above was obtained using\n",
            "Multisurface Method-Tree (MSM-T) [K. P. Bennett, \"Decision Tree\n",
            "Construction Via Linear Programming.\" Proceedings of the 4th\n",
            "Midwest Artificial Intelligence and Cognitive Science Society,\n",
            "pp. 97-101, 1992], a classification method which uses linear\n",
            "programming to construct a decision tree.  Relevant features\n",
            "were selected using an exhaustive search in the space of 1-4\n",
            "features and 1-3 separating planes.\n",
            "\n",
            "The actual linear program used to obtain the separating plane\n",
            "in the 3-dimensional space is that described in:\n",
            "[K. P. Bennett and O. L. Mangasarian: \"Robust Linear\n",
            "Programming Discrimination of Two Linearly Inseparable Sets\",\n",
            "Optimization Methods and Software 1, 1992, 23-34].\n",
            "\n",
            "This database is also available through the UW CS ftp server:\n",
            "\n",
            "ftp ftp.cs.wisc.edu\n",
            "cd math-prog/cpo-dataset/machine-learn/WDBC/\n",
            "\n",
            ".. topic:: References\n",
            "\n",
            "   - W.N. Street, W.H. Wolberg and O.L. Mangasarian. Nuclear feature extraction \n",
            "     for breast tumor diagnosis. IS&T/SPIE 1993 International Symposium on \n",
            "     Electronic Imaging: Science and Technology, volume 1905, pages 861-870,\n",
            "     San Jose, CA, 1993.\n",
            "   - O.L. Mangasarian, W.N. Street and W.H. Wolberg. Breast cancer diagnosis and \n",
            "     prognosis via linear programming. Operations Research, 43(4), pages 570-577, \n",
            "     July-August 1995.\n",
            "   - W.H. Wolberg, W.N. Street, and O.L. Mangasarian. Machine learning techniques\n",
            "     to diagnose breast cancer from fine-needle aspirates. Cancer Letters 77 (1994) \n",
            "     163-171.\n"
          ],
          "name": "stdout"
        }
      ]
    },
    {
      "cell_type": "code",
      "metadata": {
        "id": "PaBarmzq5WeI",
        "colab_type": "code",
        "colab": {
          "base_uri": "https://localhost:8080/",
          "height": 261
        },
        "outputId": "cae8eafe-af11-4e26-bc50-e239ca4cacf9"
      },
      "source": [
        "X = pd.DataFrame(data=cancer.data, columns = cancer.feature_names)\n",
        "X.head()"
      ],
      "execution_count": 8,
      "outputs": [
        {
          "output_type": "execute_result",
          "data": {
            "text/html": [
              "<div>\n",
              "<style scoped>\n",
              "    .dataframe tbody tr th:only-of-type {\n",
              "        vertical-align: middle;\n",
              "    }\n",
              "\n",
              "    .dataframe tbody tr th {\n",
              "        vertical-align: top;\n",
              "    }\n",
              "\n",
              "    .dataframe thead th {\n",
              "        text-align: right;\n",
              "    }\n",
              "</style>\n",
              "<table border=\"1\" class=\"dataframe\">\n",
              "  <thead>\n",
              "    <tr style=\"text-align: right;\">\n",
              "      <th></th>\n",
              "      <th>mean radius</th>\n",
              "      <th>mean texture</th>\n",
              "      <th>mean perimeter</th>\n",
              "      <th>mean area</th>\n",
              "      <th>mean smoothness</th>\n",
              "      <th>mean compactness</th>\n",
              "      <th>mean concavity</th>\n",
              "      <th>mean concave points</th>\n",
              "      <th>mean symmetry</th>\n",
              "      <th>mean fractal dimension</th>\n",
              "      <th>radius error</th>\n",
              "      <th>texture error</th>\n",
              "      <th>perimeter error</th>\n",
              "      <th>area error</th>\n",
              "      <th>smoothness error</th>\n",
              "      <th>compactness error</th>\n",
              "      <th>concavity error</th>\n",
              "      <th>concave points error</th>\n",
              "      <th>symmetry error</th>\n",
              "      <th>fractal dimension error</th>\n",
              "      <th>worst radius</th>\n",
              "      <th>worst texture</th>\n",
              "      <th>worst perimeter</th>\n",
              "      <th>worst area</th>\n",
              "      <th>worst smoothness</th>\n",
              "      <th>worst compactness</th>\n",
              "      <th>worst concavity</th>\n",
              "      <th>worst concave points</th>\n",
              "      <th>worst symmetry</th>\n",
              "      <th>worst fractal dimension</th>\n",
              "    </tr>\n",
              "  </thead>\n",
              "  <tbody>\n",
              "    <tr>\n",
              "      <th>0</th>\n",
              "      <td>17.99</td>\n",
              "      <td>10.38</td>\n",
              "      <td>122.80</td>\n",
              "      <td>1001.0</td>\n",
              "      <td>0.11840</td>\n",
              "      <td>0.27760</td>\n",
              "      <td>0.3001</td>\n",
              "      <td>0.14710</td>\n",
              "      <td>0.2419</td>\n",
              "      <td>0.07871</td>\n",
              "      <td>1.0950</td>\n",
              "      <td>0.9053</td>\n",
              "      <td>8.589</td>\n",
              "      <td>153.40</td>\n",
              "      <td>0.006399</td>\n",
              "      <td>0.04904</td>\n",
              "      <td>0.05373</td>\n",
              "      <td>0.01587</td>\n",
              "      <td>0.03003</td>\n",
              "      <td>0.006193</td>\n",
              "      <td>25.38</td>\n",
              "      <td>17.33</td>\n",
              "      <td>184.60</td>\n",
              "      <td>2019.0</td>\n",
              "      <td>0.1622</td>\n",
              "      <td>0.6656</td>\n",
              "      <td>0.7119</td>\n",
              "      <td>0.2654</td>\n",
              "      <td>0.4601</td>\n",
              "      <td>0.11890</td>\n",
              "    </tr>\n",
              "    <tr>\n",
              "      <th>1</th>\n",
              "      <td>20.57</td>\n",
              "      <td>17.77</td>\n",
              "      <td>132.90</td>\n",
              "      <td>1326.0</td>\n",
              "      <td>0.08474</td>\n",
              "      <td>0.07864</td>\n",
              "      <td>0.0869</td>\n",
              "      <td>0.07017</td>\n",
              "      <td>0.1812</td>\n",
              "      <td>0.05667</td>\n",
              "      <td>0.5435</td>\n",
              "      <td>0.7339</td>\n",
              "      <td>3.398</td>\n",
              "      <td>74.08</td>\n",
              "      <td>0.005225</td>\n",
              "      <td>0.01308</td>\n",
              "      <td>0.01860</td>\n",
              "      <td>0.01340</td>\n",
              "      <td>0.01389</td>\n",
              "      <td>0.003532</td>\n",
              "      <td>24.99</td>\n",
              "      <td>23.41</td>\n",
              "      <td>158.80</td>\n",
              "      <td>1956.0</td>\n",
              "      <td>0.1238</td>\n",
              "      <td>0.1866</td>\n",
              "      <td>0.2416</td>\n",
              "      <td>0.1860</td>\n",
              "      <td>0.2750</td>\n",
              "      <td>0.08902</td>\n",
              "    </tr>\n",
              "    <tr>\n",
              "      <th>2</th>\n",
              "      <td>19.69</td>\n",
              "      <td>21.25</td>\n",
              "      <td>130.00</td>\n",
              "      <td>1203.0</td>\n",
              "      <td>0.10960</td>\n",
              "      <td>0.15990</td>\n",
              "      <td>0.1974</td>\n",
              "      <td>0.12790</td>\n",
              "      <td>0.2069</td>\n",
              "      <td>0.05999</td>\n",
              "      <td>0.7456</td>\n",
              "      <td>0.7869</td>\n",
              "      <td>4.585</td>\n",
              "      <td>94.03</td>\n",
              "      <td>0.006150</td>\n",
              "      <td>0.04006</td>\n",
              "      <td>0.03832</td>\n",
              "      <td>0.02058</td>\n",
              "      <td>0.02250</td>\n",
              "      <td>0.004571</td>\n",
              "      <td>23.57</td>\n",
              "      <td>25.53</td>\n",
              "      <td>152.50</td>\n",
              "      <td>1709.0</td>\n",
              "      <td>0.1444</td>\n",
              "      <td>0.4245</td>\n",
              "      <td>0.4504</td>\n",
              "      <td>0.2430</td>\n",
              "      <td>0.3613</td>\n",
              "      <td>0.08758</td>\n",
              "    </tr>\n",
              "    <tr>\n",
              "      <th>3</th>\n",
              "      <td>11.42</td>\n",
              "      <td>20.38</td>\n",
              "      <td>77.58</td>\n",
              "      <td>386.1</td>\n",
              "      <td>0.14250</td>\n",
              "      <td>0.28390</td>\n",
              "      <td>0.2414</td>\n",
              "      <td>0.10520</td>\n",
              "      <td>0.2597</td>\n",
              "      <td>0.09744</td>\n",
              "      <td>0.4956</td>\n",
              "      <td>1.1560</td>\n",
              "      <td>3.445</td>\n",
              "      <td>27.23</td>\n",
              "      <td>0.009110</td>\n",
              "      <td>0.07458</td>\n",
              "      <td>0.05661</td>\n",
              "      <td>0.01867</td>\n",
              "      <td>0.05963</td>\n",
              "      <td>0.009208</td>\n",
              "      <td>14.91</td>\n",
              "      <td>26.50</td>\n",
              "      <td>98.87</td>\n",
              "      <td>567.7</td>\n",
              "      <td>0.2098</td>\n",
              "      <td>0.8663</td>\n",
              "      <td>0.6869</td>\n",
              "      <td>0.2575</td>\n",
              "      <td>0.6638</td>\n",
              "      <td>0.17300</td>\n",
              "    </tr>\n",
              "    <tr>\n",
              "      <th>4</th>\n",
              "      <td>20.29</td>\n",
              "      <td>14.34</td>\n",
              "      <td>135.10</td>\n",
              "      <td>1297.0</td>\n",
              "      <td>0.10030</td>\n",
              "      <td>0.13280</td>\n",
              "      <td>0.1980</td>\n",
              "      <td>0.10430</td>\n",
              "      <td>0.1809</td>\n",
              "      <td>0.05883</td>\n",
              "      <td>0.7572</td>\n",
              "      <td>0.7813</td>\n",
              "      <td>5.438</td>\n",
              "      <td>94.44</td>\n",
              "      <td>0.011490</td>\n",
              "      <td>0.02461</td>\n",
              "      <td>0.05688</td>\n",
              "      <td>0.01885</td>\n",
              "      <td>0.01756</td>\n",
              "      <td>0.005115</td>\n",
              "      <td>22.54</td>\n",
              "      <td>16.67</td>\n",
              "      <td>152.20</td>\n",
              "      <td>1575.0</td>\n",
              "      <td>0.1374</td>\n",
              "      <td>0.2050</td>\n",
              "      <td>0.4000</td>\n",
              "      <td>0.1625</td>\n",
              "      <td>0.2364</td>\n",
              "      <td>0.07678</td>\n",
              "    </tr>\n",
              "  </tbody>\n",
              "</table>\n",
              "</div>"
            ],
            "text/plain": [
              "   mean radius  mean texture  ...  worst symmetry  worst fractal dimension\n",
              "0        17.99         10.38  ...          0.4601                  0.11890\n",
              "1        20.57         17.77  ...          0.2750                  0.08902\n",
              "2        19.69         21.25  ...          0.3613                  0.08758\n",
              "3        11.42         20.38  ...          0.6638                  0.17300\n",
              "4        20.29         14.34  ...          0.2364                  0.07678\n",
              "\n",
              "[5 rows x 30 columns]"
            ]
          },
          "metadata": {
            "tags": []
          },
          "execution_count": 8
        }
      ]
    },
    {
      "cell_type": "code",
      "metadata": {
        "id": "gDkHArY96EYu",
        "colab_type": "code",
        "colab": {}
      },
      "source": [
        "y = cancer.target"
      ],
      "execution_count": 0,
      "outputs": []
    },
    {
      "cell_type": "code",
      "metadata": {
        "id": "rDX28LQL7gzm",
        "colab_type": "code",
        "colab": {
          "base_uri": "https://localhost:8080/",
          "height": 489
        },
        "outputId": "540796be-c4c2-4377-9772-8c5ab1a67b42"
      },
      "source": [
        "y"
      ],
      "execution_count": 10,
      "outputs": [
        {
          "output_type": "execute_result",
          "data": {
            "text/plain": [
              "array([0, 0, 0, 0, 0, 0, 0, 0, 0, 0, 0, 0, 0, 0, 0, 0, 0, 0, 0, 1, 1, 1,\n",
              "       0, 0, 0, 0, 0, 0, 0, 0, 0, 0, 0, 0, 0, 0, 0, 1, 0, 0, 0, 0, 0, 0,\n",
              "       0, 0, 1, 0, 1, 1, 1, 1, 1, 0, 0, 1, 0, 0, 1, 1, 1, 1, 0, 1, 0, 0,\n",
              "       1, 1, 1, 1, 0, 1, 0, 0, 1, 0, 1, 0, 0, 1, 1, 1, 0, 0, 1, 0, 0, 0,\n",
              "       1, 1, 1, 0, 1, 1, 0, 0, 1, 1, 1, 0, 0, 1, 1, 1, 1, 0, 1, 1, 0, 1,\n",
              "       1, 1, 1, 1, 1, 1, 1, 0, 0, 0, 1, 0, 0, 1, 1, 1, 0, 0, 1, 0, 1, 0,\n",
              "       0, 1, 0, 0, 1, 1, 0, 1, 1, 0, 1, 1, 1, 1, 0, 1, 1, 1, 1, 1, 1, 1,\n",
              "       1, 1, 0, 1, 1, 1, 1, 0, 0, 1, 0, 1, 1, 0, 0, 1, 1, 0, 0, 1, 1, 1,\n",
              "       1, 0, 1, 1, 0, 0, 0, 1, 0, 1, 0, 1, 1, 1, 0, 1, 1, 0, 0, 1, 0, 0,\n",
              "       0, 0, 1, 0, 0, 0, 1, 0, 1, 0, 1, 1, 0, 1, 0, 0, 0, 0, 1, 1, 0, 0,\n",
              "       1, 1, 1, 0, 1, 1, 1, 1, 1, 0, 0, 1, 1, 0, 1, 1, 0, 0, 1, 0, 1, 1,\n",
              "       1, 1, 0, 1, 1, 1, 1, 1, 0, 1, 0, 0, 0, 0, 0, 0, 0, 0, 0, 0, 0, 0,\n",
              "       0, 0, 1, 1, 1, 1, 1, 1, 0, 1, 0, 1, 1, 0, 1, 1, 0, 1, 0, 0, 1, 1,\n",
              "       1, 1, 1, 1, 1, 1, 1, 1, 1, 1, 1, 0, 1, 1, 0, 1, 0, 1, 1, 1, 1, 1,\n",
              "       1, 1, 1, 1, 1, 1, 1, 1, 1, 0, 1, 1, 1, 0, 1, 0, 1, 1, 1, 1, 0, 0,\n",
              "       0, 1, 1, 1, 1, 0, 1, 0, 1, 0, 1, 1, 1, 0, 1, 1, 1, 1, 1, 1, 1, 0,\n",
              "       0, 0, 1, 1, 1, 1, 1, 1, 1, 1, 1, 1, 1, 0, 0, 1, 0, 0, 0, 1, 0, 0,\n",
              "       1, 1, 1, 1, 1, 0, 1, 1, 1, 1, 1, 0, 1, 1, 1, 0, 1, 1, 0, 0, 1, 1,\n",
              "       1, 1, 1, 1, 0, 1, 1, 1, 1, 1, 1, 1, 0, 1, 1, 1, 1, 1, 0, 1, 1, 0,\n",
              "       1, 1, 1, 1, 1, 1, 1, 1, 1, 1, 1, 1, 0, 1, 0, 0, 1, 0, 1, 1, 1, 1,\n",
              "       1, 0, 1, 1, 0, 1, 0, 1, 1, 0, 1, 0, 1, 1, 1, 1, 1, 1, 1, 1, 0, 0,\n",
              "       1, 1, 1, 1, 1, 1, 0, 1, 1, 1, 1, 1, 1, 1, 1, 1, 1, 0, 1, 1, 1, 1,\n",
              "       1, 1, 1, 0, 1, 0, 1, 1, 0, 1, 1, 1, 1, 1, 0, 0, 1, 0, 1, 0, 1, 1,\n",
              "       1, 1, 1, 0, 1, 1, 0, 1, 0, 1, 0, 0, 1, 1, 1, 0, 1, 1, 1, 1, 1, 1,\n",
              "       1, 1, 1, 1, 1, 0, 1, 0, 0, 1, 1, 1, 1, 1, 1, 1, 1, 1, 1, 1, 1, 1,\n",
              "       1, 1, 1, 1, 1, 1, 1, 1, 1, 1, 1, 1, 0, 0, 0, 0, 0, 0, 1])"
            ]
          },
          "metadata": {
            "tags": []
          },
          "execution_count": 10
        }
      ]
    },
    {
      "cell_type": "code",
      "metadata": {
        "id": "rprm9MHm7iSH",
        "colab_type": "code",
        "colab": {
          "base_uri": "https://localhost:8080/",
          "height": 35
        },
        "outputId": "02a5e183-7976-4c8f-855f-2f4f70bb8cab"
      },
      "source": [
        "cancer.target_names"
      ],
      "execution_count": 11,
      "outputs": [
        {
          "output_type": "execute_result",
          "data": {
            "text/plain": [
              "array(['malignant', 'benign'], dtype='<U9')"
            ]
          },
          "metadata": {
            "tags": []
          },
          "execution_count": 11
        }
      ]
    },
    {
      "cell_type": "code",
      "metadata": {
        "id": "F-xBpt0K7nUv",
        "colab_type": "code",
        "colab": {
          "base_uri": "https://localhost:8080/",
          "height": 35
        },
        "outputId": "a07ac61c-a6f0-42fb-c2dd-725df72344a9"
      },
      "source": [
        "X.shape"
      ],
      "execution_count": 14,
      "outputs": [
        {
          "output_type": "execute_result",
          "data": {
            "text/plain": [
              "(569, 30)"
            ]
          },
          "metadata": {
            "tags": []
          },
          "execution_count": 14
        }
      ]
    },
    {
      "cell_type": "code",
      "metadata": {
        "id": "hDzGUlzx71RX",
        "colab_type": "code",
        "colab": {
          "base_uri": "https://localhost:8080/",
          "height": 35
        },
        "outputId": "fc11136c-16a0-4c4e-c58a-8d5048620d91"
      },
      "source": [
        "X_train, X_test, y_train, y_test = train_test_split(X, y, test_size = 0.2, random_state = 0, stratify = y)\n",
        "X_train.shape\n"
      ],
      "execution_count": 17,
      "outputs": [
        {
          "output_type": "execute_result",
          "data": {
            "text/plain": [
              "(455, 30)"
            ]
          },
          "metadata": {
            "tags": []
          },
          "execution_count": 17
        }
      ]
    },
    {
      "cell_type": "code",
      "metadata": {
        "id": "mXLucdzD8VYv",
        "colab_type": "code",
        "colab": {
          "base_uri": "https://localhost:8080/",
          "height": 35
        },
        "outputId": "5658085c-fcf2-4ad2-9655-cf7f41ddd11d"
      },
      "source": [
        "X_test.shape"
      ],
      "execution_count": 18,
      "outputs": [
        {
          "output_type": "execute_result",
          "data": {
            "text/plain": [
              "(114, 30)"
            ]
          },
          "metadata": {
            "tags": []
          },
          "execution_count": 18
        }
      ]
    },
    {
      "cell_type": "code",
      "metadata": {
        "id": "fJV705k18hnk",
        "colab_type": "code",
        "colab": {}
      },
      "source": [
        "scaler = StandardScaler()\n",
        "X_train = scaler.fit_transform(X_train)\n",
        "X_test = scaler.transform(X_test)"
      ],
      "execution_count": 0,
      "outputs": []
    },
    {
      "cell_type": "code",
      "metadata": {
        "id": "fLk0JY__9Msy",
        "colab_type": "code",
        "colab": {}
      },
      "source": [
        "X_train = X_train.reshape(455,30,1)\n",
        "X_test = X_test.reshape(114,30,1)"
      ],
      "execution_count": 0,
      "outputs": []
    },
    {
      "cell_type": "code",
      "metadata": {
        "id": "nck4-DEV9ZwV",
        "colab_type": "code",
        "colab": {}
      },
      "source": [
        "epochs = 50\n",
        "model = Sequential()\n",
        "model.add(Conv1D(filters=32,kernel_size=2,activation='relu',input_shape = (30,1)))"
      ],
      "execution_count": 0,
      "outputs": []
    },
    {
      "cell_type": "code",
      "metadata": {
        "id": "qZtWjhS1-Orf",
        "colab_type": "code",
        "colab": {}
      },
      "source": [
        "model.add(BatchNormalization())"
      ],
      "execution_count": 0,
      "outputs": []
    },
    {
      "cell_type": "code",
      "metadata": {
        "id": "W4RB6_tB-vj2",
        "colab_type": "code",
        "colab": {}
      },
      "source": [
        "model.add(Dropout(0.2))"
      ],
      "execution_count": 0,
      "outputs": []
    },
    {
      "cell_type": "code",
      "metadata": {
        "id": "iFra38UQ_GO_",
        "colab_type": "code",
        "colab": {
          "base_uri": "https://localhost:8080/",
          "height": 526
        },
        "outputId": "b700b63f-742e-4431-ec55-4918e8698bde"
      },
      "source": [
        "model.add(Conv1D(filters=64,kernel_size=2,activation='relu',input_shape = (30,1)))\n",
        "model.add(BatchNormalization())\n",
        "model.add(Dropout(0.5))\n",
        "\n",
        "model.add(Flatten())\n",
        "model.add(Dense(64, activation = 'relu'))\n",
        "model.add(Dropout(0.5))\n",
        "\n",
        "model.add(Dense(1, activation = 'sigmoid'))\n",
        "\n",
        "\n",
        "model.summary()"
      ],
      "execution_count": 26,
      "outputs": [
        {
          "output_type": "stream",
          "text": [
            "Model: \"sequential_1\"\n",
            "_________________________________________________________________\n",
            "Layer (type)                 Output Shape              Param #   \n",
            "=================================================================\n",
            "conv1d (Conv1D)              (None, 29, 32)            96        \n",
            "_________________________________________________________________\n",
            "batch_normalization (BatchNo (None, 29, 32)            128       \n",
            "_________________________________________________________________\n",
            "dropout (Dropout)            (None, 29, 32)            0         \n",
            "_________________________________________________________________\n",
            "conv1d_1 (Conv1D)            (None, 28, 64)            4160      \n",
            "_________________________________________________________________\n",
            "batch_normalization_1 (Batch (None, 28, 64)            256       \n",
            "_________________________________________________________________\n",
            "dropout_1 (Dropout)          (None, 28, 64)            0         \n",
            "_________________________________________________________________\n",
            "flatten (Flatten)            (None, 1792)              0         \n",
            "_________________________________________________________________\n",
            "dense (Dense)                (None, 64)                114752    \n",
            "_________________________________________________________________\n",
            "dropout_2 (Dropout)          (None, 64)                0         \n",
            "_________________________________________________________________\n",
            "dense_1 (Dense)              (None, 1)                 65        \n",
            "=================================================================\n",
            "Total params: 119,457\n",
            "Trainable params: 119,265\n",
            "Non-trainable params: 192\n",
            "_________________________________________________________________\n"
          ],
          "name": "stdout"
        }
      ]
    },
    {
      "cell_type": "code",
      "metadata": {
        "id": "WcRFHG6QAFn3",
        "colab_type": "code",
        "colab": {
          "base_uri": "https://localhost:8080/",
          "height": 1000
        },
        "outputId": "a6647479-055b-4c75-cdb2-e57c2c3c1c53"
      },
      "source": [
        "model.compile(optimizer=Adam(lr=0.00005), loss = 'binary_crossentropy', metrics = ['accuracy'])\n",
        "\n",
        "history = model.fit(X_train, y_train, epochs = 50, validation_data = (X_test, y_test), verbose =1)"
      ],
      "execution_count": 27,
      "outputs": [
        {
          "output_type": "stream",
          "text": [
            "Train on 455 samples, validate on 114 samples\n",
            "Epoch 1/50\n",
            "WARNING:tensorflow:From /usr/local/lib/python3.6/dist-packages/tensorflow_core/python/ops/nn_impl.py:183: where (from tensorflow.python.ops.array_ops) is deprecated and will be removed in a future version.\n",
            "Instructions for updating:\n",
            "Use tf.where in 2.0, which has the same broadcast rule as np.where\n",
            "455/455 [==============================] - 2s 4ms/sample - loss: 0.9592 - accuracy: 0.6110 - val_loss: 0.6388 - val_accuracy: 0.8860\n",
            "Epoch 2/50\n",
            "455/455 [==============================] - 0s 399us/sample - loss: 0.6467 - accuracy: 0.7363 - val_loss: 0.5869 - val_accuracy: 0.8772\n",
            "Epoch 3/50\n",
            "455/455 [==============================] - 0s 377us/sample - loss: 0.4459 - accuracy: 0.8066 - val_loss: 0.5398 - val_accuracy: 0.8772\n",
            "Epoch 4/50\n",
            "455/455 [==============================] - 0s 389us/sample - loss: 0.3851 - accuracy: 0.8352 - val_loss: 0.4978 - val_accuracy: 0.8772\n",
            "Epoch 5/50\n",
            "455/455 [==============================] - 0s 391us/sample - loss: 0.3469 - accuracy: 0.8769 - val_loss: 0.4598 - val_accuracy: 0.8772\n",
            "Epoch 6/50\n",
            "455/455 [==============================] - 0s 385us/sample - loss: 0.2925 - accuracy: 0.8813 - val_loss: 0.4247 - val_accuracy: 0.8860\n",
            "Epoch 7/50\n",
            "455/455 [==============================] - 0s 416us/sample - loss: 0.2597 - accuracy: 0.8989 - val_loss: 0.3928 - val_accuracy: 0.8860\n",
            "Epoch 8/50\n",
            "455/455 [==============================] - 0s 412us/sample - loss: 0.2917 - accuracy: 0.8945 - val_loss: 0.3616 - val_accuracy: 0.9123\n",
            "Epoch 9/50\n",
            "455/455 [==============================] - 0s 394us/sample - loss: 0.2591 - accuracy: 0.8989 - val_loss: 0.3318 - val_accuracy: 0.9123\n",
            "Epoch 10/50\n",
            "455/455 [==============================] - 0s 410us/sample - loss: 0.2698 - accuracy: 0.9055 - val_loss: 0.3046 - val_accuracy: 0.9211\n",
            "Epoch 11/50\n",
            "455/455 [==============================] - 0s 395us/sample - loss: 0.2479 - accuracy: 0.8967 - val_loss: 0.2802 - val_accuracy: 0.9211\n",
            "Epoch 12/50\n",
            "455/455 [==============================] - 0s 378us/sample - loss: 0.2127 - accuracy: 0.9099 - val_loss: 0.2574 - val_accuracy: 0.9298\n",
            "Epoch 13/50\n",
            "455/455 [==============================] - 0s 390us/sample - loss: 0.1911 - accuracy: 0.9319 - val_loss: 0.2363 - val_accuracy: 0.9298\n",
            "Epoch 14/50\n",
            "455/455 [==============================] - 0s 399us/sample - loss: 0.1905 - accuracy: 0.9363 - val_loss: 0.2183 - val_accuracy: 0.9386\n",
            "Epoch 15/50\n",
            "455/455 [==============================] - 0s 375us/sample - loss: 0.1892 - accuracy: 0.9209 - val_loss: 0.2034 - val_accuracy: 0.9474\n",
            "Epoch 16/50\n",
            "455/455 [==============================] - 0s 401us/sample - loss: 0.2062 - accuracy: 0.9165 - val_loss: 0.1892 - val_accuracy: 0.9474\n",
            "Epoch 17/50\n",
            "455/455 [==============================] - 0s 382us/sample - loss: 0.1745 - accuracy: 0.9473 - val_loss: 0.1775 - val_accuracy: 0.9474\n",
            "Epoch 18/50\n",
            "455/455 [==============================] - 0s 397us/sample - loss: 0.1905 - accuracy: 0.9341 - val_loss: 0.1660 - val_accuracy: 0.9561\n",
            "Epoch 19/50\n",
            "455/455 [==============================] - 0s 388us/sample - loss: 0.1329 - accuracy: 0.9451 - val_loss: 0.1576 - val_accuracy: 0.9561\n",
            "Epoch 20/50\n",
            "455/455 [==============================] - 0s 382us/sample - loss: 0.1953 - accuracy: 0.9209 - val_loss: 0.1472 - val_accuracy: 0.9561\n",
            "Epoch 21/50\n",
            "455/455 [==============================] - 0s 373us/sample - loss: 0.1551 - accuracy: 0.9385 - val_loss: 0.1377 - val_accuracy: 0.9561\n",
            "Epoch 22/50\n",
            "455/455 [==============================] - 0s 411us/sample - loss: 0.1150 - accuracy: 0.9560 - val_loss: 0.1301 - val_accuracy: 0.9561\n",
            "Epoch 23/50\n",
            "455/455 [==============================] - 0s 391us/sample - loss: 0.1448 - accuracy: 0.9429 - val_loss: 0.1250 - val_accuracy: 0.9561\n",
            "Epoch 24/50\n",
            "455/455 [==============================] - 0s 374us/sample - loss: 0.2057 - accuracy: 0.9187 - val_loss: 0.1186 - val_accuracy: 0.9649\n",
            "Epoch 25/50\n",
            "455/455 [==============================] - 0s 411us/sample - loss: 0.1340 - accuracy: 0.9495 - val_loss: 0.1144 - val_accuracy: 0.9649\n",
            "Epoch 26/50\n",
            "455/455 [==============================] - 0s 383us/sample - loss: 0.1821 - accuracy: 0.9297 - val_loss: 0.1096 - val_accuracy: 0.9649\n",
            "Epoch 27/50\n",
            "455/455 [==============================] - 0s 398us/sample - loss: 0.1535 - accuracy: 0.9516 - val_loss: 0.1057 - val_accuracy: 0.9649\n",
            "Epoch 28/50\n",
            "455/455 [==============================] - 0s 380us/sample - loss: 0.1396 - accuracy: 0.9516 - val_loss: 0.1025 - val_accuracy: 0.9649\n",
            "Epoch 29/50\n",
            "455/455 [==============================] - 0s 392us/sample - loss: 0.1572 - accuracy: 0.9363 - val_loss: 0.0993 - val_accuracy: 0.9737\n",
            "Epoch 30/50\n",
            "455/455 [==============================] - 0s 368us/sample - loss: 0.1235 - accuracy: 0.9473 - val_loss: 0.0975 - val_accuracy: 0.9737\n",
            "Epoch 31/50\n",
            "455/455 [==============================] - 0s 375us/sample - loss: 0.1327 - accuracy: 0.9516 - val_loss: 0.0969 - val_accuracy: 0.9737\n",
            "Epoch 32/50\n",
            "455/455 [==============================] - 0s 387us/sample - loss: 0.1216 - accuracy: 0.9604 - val_loss: 0.0955 - val_accuracy: 0.9737\n",
            "Epoch 33/50\n",
            "455/455 [==============================] - 0s 355us/sample - loss: 0.1084 - accuracy: 0.9626 - val_loss: 0.0939 - val_accuracy: 0.9737\n",
            "Epoch 34/50\n",
            "455/455 [==============================] - 0s 393us/sample - loss: 0.1152 - accuracy: 0.9560 - val_loss: 0.0935 - val_accuracy: 0.9737\n",
            "Epoch 35/50\n",
            "455/455 [==============================] - 0s 376us/sample - loss: 0.1348 - accuracy: 0.9604 - val_loss: 0.0938 - val_accuracy: 0.9737\n",
            "Epoch 36/50\n",
            "455/455 [==============================] - 0s 390us/sample - loss: 0.1263 - accuracy: 0.9473 - val_loss: 0.0930 - val_accuracy: 0.9737\n",
            "Epoch 37/50\n",
            "455/455 [==============================] - 0s 370us/sample - loss: 0.1088 - accuracy: 0.9582 - val_loss: 0.0915 - val_accuracy: 0.9649\n",
            "Epoch 38/50\n",
            "455/455 [==============================] - 0s 390us/sample - loss: 0.1110 - accuracy: 0.9670 - val_loss: 0.0908 - val_accuracy: 0.9649\n",
            "Epoch 39/50\n",
            "455/455 [==============================] - 0s 393us/sample - loss: 0.0966 - accuracy: 0.9560 - val_loss: 0.0908 - val_accuracy: 0.9649\n",
            "Epoch 40/50\n",
            "455/455 [==============================] - 0s 372us/sample - loss: 0.1049 - accuracy: 0.9582 - val_loss: 0.0907 - val_accuracy: 0.9649\n",
            "Epoch 41/50\n",
            "455/455 [==============================] - 0s 385us/sample - loss: 0.1428 - accuracy: 0.9560 - val_loss: 0.0907 - val_accuracy: 0.9649\n",
            "Epoch 42/50\n",
            "455/455 [==============================] - 0s 359us/sample - loss: 0.0892 - accuracy: 0.9736 - val_loss: 0.0909 - val_accuracy: 0.9649\n",
            "Epoch 43/50\n",
            "455/455 [==============================] - 0s 367us/sample - loss: 0.1205 - accuracy: 0.9538 - val_loss: 0.0912 - val_accuracy: 0.9649\n",
            "Epoch 44/50\n",
            "455/455 [==============================] - 0s 384us/sample - loss: 0.0770 - accuracy: 0.9626 - val_loss: 0.0924 - val_accuracy: 0.9649\n",
            "Epoch 45/50\n",
            "455/455 [==============================] - 0s 370us/sample - loss: 0.1213 - accuracy: 0.9582 - val_loss: 0.0928 - val_accuracy: 0.9649\n",
            "Epoch 46/50\n",
            "455/455 [==============================] - 0s 380us/sample - loss: 0.0944 - accuracy: 0.9560 - val_loss: 0.0925 - val_accuracy: 0.9649\n",
            "Epoch 47/50\n",
            "455/455 [==============================] - 0s 388us/sample - loss: 0.1399 - accuracy: 0.9560 - val_loss: 0.0918 - val_accuracy: 0.9649\n",
            "Epoch 48/50\n",
            "455/455 [==============================] - 0s 401us/sample - loss: 0.0769 - accuracy: 0.9780 - val_loss: 0.0914 - val_accuracy: 0.9649\n",
            "Epoch 49/50\n",
            "455/455 [==============================] - 0s 372us/sample - loss: 0.1134 - accuracy: 0.9516 - val_loss: 0.0909 - val_accuracy: 0.9649\n",
            "Epoch 50/50\n",
            "455/455 [==============================] - 0s 355us/sample - loss: 0.0997 - accuracy: 0.9582 - val_loss: 0.0911 - val_accuracy: 0.9649\n"
          ],
          "name": "stdout"
        }
      ]
    },
    {
      "cell_type": "code",
      "metadata": {
        "id": "504fGtUeA8gI",
        "colab_type": "code",
        "colab": {}
      },
      "source": [
        "def plot_learningCurve(history, epoch):\n",
        "  epoch_range = range(1,epoch+1)\n",
        "  plt.plot(epoch_range, history.history['accuracy'])\n",
        "  plt.plot(epoch_range, history.history['val_accuracy'])\n",
        "  plt.title('Model Accuracy')\n",
        "  plt.ylabel('Accuracy')\n",
        "  plt.xlabel('Epoch')\n",
        "  plt.legend(['Train', 'Validation'], loc = 'upper left')\n",
        "  plt.show()\n",
        "\n",
        "  plt.plot(epoch_range, history.history['loss'])\n",
        "  plt.plot(epoch_range, history.history['val_loss'])\n",
        "  plt.title('Model Loss')\n",
        "  plt.ylabel('Loss')\n",
        "  plt.xlabel('Epoch')\n",
        "  plt.legend(['Train', 'Validation'], loc = 'upper left')\n",
        "  plt.show()\n",
        "\n",
        "  "
      ],
      "execution_count": 0,
      "outputs": []
    },
    {
      "cell_type": "code",
      "metadata": {
        "id": "Nk8jD_O-CR_w",
        "colab_type": "code",
        "colab": {
          "base_uri": "https://localhost:8080/",
          "height": 1000
        },
        "outputId": "a40fd308-5da4-42eb-bb59-f74d377eb99b"
      },
      "source": [
        "history.history"
      ],
      "execution_count": 35,
      "outputs": [
        {
          "output_type": "execute_result",
          "data": {
            "text/plain": [
              "{'accuracy': [0.61098903,\n",
              "  0.73626375,\n",
              "  0.8065934,\n",
              "  0.83516484,\n",
              "  0.8769231,\n",
              "  0.8813187,\n",
              "  0.8989011,\n",
              "  0.8945055,\n",
              "  0.8989011,\n",
              "  0.9054945,\n",
              "  0.8967033,\n",
              "  0.9098901,\n",
              "  0.93186814,\n",
              "  0.93626374,\n",
              "  0.9208791,\n",
              "  0.9164835,\n",
              "  0.94725275,\n",
              "  0.93406594,\n",
              "  0.94505495,\n",
              "  0.9208791,\n",
              "  0.93846154,\n",
              "  0.95604396,\n",
              "  0.94285715,\n",
              "  0.9186813,\n",
              "  0.94945055,\n",
              "  0.92967033,\n",
              "  0.95164835,\n",
              "  0.95164835,\n",
              "  0.93626374,\n",
              "  0.94725275,\n",
              "  0.95164835,\n",
              "  0.96043956,\n",
              "  0.96263736,\n",
              "  0.95604396,\n",
              "  0.96043956,\n",
              "  0.94725275,\n",
              "  0.95824176,\n",
              "  0.96703297,\n",
              "  0.95604396,\n",
              "  0.95824176,\n",
              "  0.95604396,\n",
              "  0.9736264,\n",
              "  0.95384616,\n",
              "  0.96263736,\n",
              "  0.95824176,\n",
              "  0.95604396,\n",
              "  0.95604396,\n",
              "  0.978022,\n",
              "  0.95164835,\n",
              "  0.95824176],\n",
              " 'loss': [0.9592148013167329,\n",
              "  0.6466593907429622,\n",
              "  0.4459160905617934,\n",
              "  0.3851246525953104,\n",
              "  0.3469261817224733,\n",
              "  0.2924654491000123,\n",
              "  0.2596513511715354,\n",
              "  0.2917283318199954,\n",
              "  0.25905056942540866,\n",
              "  0.269790328334976,\n",
              "  0.24789510944059917,\n",
              "  0.21274641781717865,\n",
              "  0.19105173310080728,\n",
              "  0.19048888499920186,\n",
              "  0.18922123674835478,\n",
              "  0.20618928597196118,\n",
              "  0.1744556533766317,\n",
              "  0.190463651405586,\n",
              "  0.13292720917162004,\n",
              "  0.1952633139196333,\n",
              "  0.15507205921215014,\n",
              "  0.11496860652773098,\n",
              "  0.14479544075144515,\n",
              "  0.20569469463694226,\n",
              "  0.13398467874625228,\n",
              "  0.18206401251174592,\n",
              "  0.15348162654336991,\n",
              "  0.13957151554443023,\n",
              "  0.15719247401415648,\n",
              "  0.12353413576608176,\n",
              "  0.1327049520113608,\n",
              "  0.1215688886074861,\n",
              "  0.10843958815375528,\n",
              "  0.11522343294633614,\n",
              "  0.13483790858024425,\n",
              "  0.12632086263908135,\n",
              "  0.10882753803507313,\n",
              "  0.11104355162152878,\n",
              "  0.09662430181608095,\n",
              "  0.10489524064155725,\n",
              "  0.1427652728672211,\n",
              "  0.08923127875550763,\n",
              "  0.12053529998635525,\n",
              "  0.07697443110909272,\n",
              "  0.12125212975910732,\n",
              "  0.09438185010637556,\n",
              "  0.13990768479019566,\n",
              "  0.0768645591378867,\n",
              "  0.11336713340747487,\n",
              "  0.09972812815845668],\n",
              " 'val_accuracy': [0.88596493,\n",
              "  0.877193,\n",
              "  0.877193,\n",
              "  0.877193,\n",
              "  0.877193,\n",
              "  0.88596493,\n",
              "  0.88596493,\n",
              "  0.9122807,\n",
              "  0.9122807,\n",
              "  0.92105263,\n",
              "  0.92105263,\n",
              "  0.9298246,\n",
              "  0.9298246,\n",
              "  0.9385965,\n",
              "  0.94736844,\n",
              "  0.94736844,\n",
              "  0.94736844,\n",
              "  0.95614034,\n",
              "  0.95614034,\n",
              "  0.95614034,\n",
              "  0.95614034,\n",
              "  0.95614034,\n",
              "  0.95614034,\n",
              "  0.9649123,\n",
              "  0.9649123,\n",
              "  0.9649123,\n",
              "  0.9649123,\n",
              "  0.9649123,\n",
              "  0.9736842,\n",
              "  0.9736842,\n",
              "  0.9736842,\n",
              "  0.9736842,\n",
              "  0.9736842,\n",
              "  0.9736842,\n",
              "  0.9736842,\n",
              "  0.9736842,\n",
              "  0.9649123,\n",
              "  0.9649123,\n",
              "  0.9649123,\n",
              "  0.9649123,\n",
              "  0.9649123,\n",
              "  0.9649123,\n",
              "  0.9649123,\n",
              "  0.9649123,\n",
              "  0.9649123,\n",
              "  0.9649123,\n",
              "  0.9649123,\n",
              "  0.9649123,\n",
              "  0.9649123,\n",
              "  0.9649123],\n",
              " 'val_loss': [0.638788176210303,\n",
              "  0.5868965240946987,\n",
              "  0.5397826516837404,\n",
              "  0.497797289438415,\n",
              "  0.459778624668456,\n",
              "  0.4247367429105859,\n",
              "  0.3927523566965471,\n",
              "  0.361590516148952,\n",
              "  0.3318169169258653,\n",
              "  0.30455108797341063,\n",
              "  0.2801510252450642,\n",
              "  0.2573854301059455,\n",
              "  0.2362995322859078,\n",
              "  0.21834422883234525,\n",
              "  0.2034002388255638,\n",
              "  0.18923943346006827,\n",
              "  0.17747714200563597,\n",
              "  0.16599616643629575,\n",
              "  0.15762723851622196,\n",
              "  0.14723056763933415,\n",
              "  0.13767900409405692,\n",
              "  0.1301437867315192,\n",
              "  0.12503271563011303,\n",
              "  0.11860435704390208,\n",
              "  0.11437206087928069,\n",
              "  0.10958455895122729,\n",
              "  0.10565151476807762,\n",
              "  0.10252030298375246,\n",
              "  0.09928182604020103,\n",
              "  0.0974607244787509,\n",
              "  0.09689061539737802,\n",
              "  0.0954942303268533,\n",
              "  0.09390121479437016,\n",
              "  0.09345678792318754,\n",
              "  0.09381522150023987,\n",
              "  0.0930412530637624,\n",
              "  0.09154643624890269,\n",
              "  0.09076856691063497,\n",
              "  0.09076847645797227,\n",
              "  0.09068610800201432,\n",
              "  0.09068356568745353,\n",
              "  0.0908962815281069,\n",
              "  0.09124572026102166,\n",
              "  0.0924002442410902,\n",
              "  0.0927968030599387,\n",
              "  0.0924641371851689,\n",
              "  0.0917651375036752,\n",
              "  0.0914064398068085,\n",
              "  0.0908879299827835,\n",
              "  0.09109824605024698]}"
            ]
          },
          "metadata": {
            "tags": []
          },
          "execution_count": 35
        }
      ]
    },
    {
      "cell_type": "code",
      "metadata": {
        "id": "vUfsriltC0_c",
        "colab_type": "code",
        "colab": {
          "base_uri": "https://localhost:8080/",
          "height": 573
        },
        "outputId": "055b72b6-54dc-465d-9148-5712d3b8ee09"
      },
      "source": [
        "plot_learningCurve(history, epochs)"
      ],
      "execution_count": 37,
      "outputs": [
        {
          "output_type": "display_data",
          "data": {
            "image/png": "[encoded data removed]",
            "text/plain": [
              "<Figure size 432x288 with 1 Axes>"
            ]
          },
          "metadata": {
            "tags": []
          }
        },
        {
          "output_type": "display_data",
          "data": {
            "image/png": "[encoded data removed]",
            "text/plain": [
              "<Figure size 432x288 with 1 Axes>"
            ]
          },
          "metadata": {
            "tags": []
          }
        }
      ]
    },
    {
      "cell_type": "code",
      "metadata": {
        "id": "C3I1_amyDGSR",
        "colab_type": "code",
        "colab": {}
      },
      "source": [
        ""
      ],
      "execution_count": 0,
      "outputs": []
    }
  ]
}